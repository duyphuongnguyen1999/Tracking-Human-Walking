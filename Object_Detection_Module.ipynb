{
  "nbformat": 4,
  "nbformat_minor": 0,
  "metadata": {
    "colab": {
      "provenance": [],
      "toc_visible": true,
      "machine_shape": "hm",
      "gpuType": "A100"
    },
    "kernelspec": {
      "name": "python3",
      "display_name": "Python 3"
    },
    "language_info": {
      "name": "python"
    },
    "accelerator": "GPU"
  },
  "cells": [
    {
      "cell_type": "markdown",
      "source": [
        "# Tracking Human Walking - Object Detection Module"
      ],
      "metadata": {
        "id": "XbJWNRwWM0pL"
      }
    },
    {
      "cell_type": "markdown",
      "source": [
        "## 0. Download Dataset"
      ],
      "metadata": {
        "id": "tJiSI9NUN0iR"
      }
    },
    {
      "cell_type": "markdown",
      "source": [
        "In this project, we use MOT17 (Multiple Object Tracking 17)"
      ],
      "metadata": {
        "id": "JDc720ezNdN7"
      }
    },
    {
      "cell_type": "code",
      "source": [
        "# Download dataset with wget\n",
        "!wget https://motchallenge.net/data/MOT17.zip"
      ],
      "metadata": {
        "colab": {
          "base_uri": "https://localhost:8080/"
        },
        "id": "tWyRd-D-M9po",
        "outputId": "e5f973ee-bba7-4c37-ba78-6b8d0b5d702e"
      },
      "execution_count": 1,
      "outputs": [
        {
          "output_type": "stream",
          "name": "stdout",
          "text": [
            "--2024-03-23 22:03:59--  https://motchallenge.net/data/MOT17.zip\n",
            "Resolving motchallenge.net (motchallenge.net)... 131.159.19.34, 2a09:80c0:18::1034\n",
            "Connecting to motchallenge.net (motchallenge.net)|131.159.19.34|:443... connected.\n",
            "HTTP request sent, awaiting response... 200 OK\n",
            "Length: 5860214001 (5.5G) [application/zip]\n",
            "Saving to: ‘MOT17.zip’\n",
            "\n",
            "MOT17.zip           100%[===================>]   5.46G  12.8MB/s    in 6m 24s  \n",
            "\n",
            "2024-03-23 22:10:25 (14.5 MB/s) - ‘MOT17.zip’ saved [5860214001/5860214001]\n",
            "\n"
          ]
        }
      ]
    },
    {
      "cell_type": "code",
      "source": [
        "# Unzip dataset\n",
        "%%time\n",
        "!unzip -qq -a MOT17.zip"
      ],
      "metadata": {
        "colab": {
          "base_uri": "https://localhost:8080/"
        },
        "id": "QIovCJ7OOdHi",
        "outputId": "5aa22ab4-2b6c-48e7-bdb6-42ac428b081f"
      },
      "execution_count": 2,
      "outputs": [
        {
          "output_type": "stream",
          "name": "stdout",
          "text": [
            "CPU times: user 285 ms, sys: 42.9 ms, total: 328 ms\n",
            "Wall time: 57 s\n"
          ]
        }
      ]
    },
    {
      "cell_type": "markdown",
      "source": [
        "## 1. Import Libraries"
      ],
      "metadata": {
        "id": "y_aTKq6mSSaj"
      }
    },
    {
      "cell_type": "code",
      "source": [
        "!pip install ultralytics -q"
      ],
      "metadata": {
        "colab": {
          "base_uri": "https://localhost:8080/"
        },
        "id": "HsRMgpbWSXmC",
        "outputId": "40d838f3-ff59-4a56-a4c2-edcbd9e42b76"
      },
      "execution_count": 3,
      "outputs": [
        {
          "output_type": "stream",
          "name": "stdout",
          "text": [
            "\u001b[2K     \u001b[90m━━━━━━━━━━━━━━━━━━━━━━━━━━━━━━━━━━━━━━━━\u001b[0m \u001b[32m722.9/722.9 kB\u001b[0m \u001b[31m17.0 MB/s\u001b[0m eta \u001b[36m0:00:00\u001b[0m\n",
            "\u001b[2K     \u001b[90m━━━━━━━━━━━━━━━━━━━━━━━━━━━━━━━━━━━━━━━━\u001b[0m \u001b[32m23.7/23.7 MB\u001b[0m \u001b[31m64.9 MB/s\u001b[0m eta \u001b[36m0:00:00\u001b[0m\n",
            "\u001b[2K     \u001b[90m━━━━━━━━━━━━━━━━━━━━━━━━━━━━━━━━━━━━━━━━\u001b[0m \u001b[32m823.6/823.6 kB\u001b[0m \u001b[31m66.5 MB/s\u001b[0m eta \u001b[36m0:00:00\u001b[0m\n",
            "\u001b[2K     \u001b[90m━━━━━━━━━━━━━━━━━━━━━━━━━━━━━━━━━━━━━━━━\u001b[0m \u001b[32m14.1/14.1 MB\u001b[0m \u001b[31m93.4 MB/s\u001b[0m eta \u001b[36m0:00:00\u001b[0m\n",
            "\u001b[2K     \u001b[90m━━━━━━━━━━━━━━━━━━━━━━━━━━━━━━━━━━━━━━━━\u001b[0m \u001b[32m731.7/731.7 MB\u001b[0m \u001b[31m1.7 MB/s\u001b[0m eta \u001b[36m0:00:00\u001b[0m\n",
            "\u001b[2K     \u001b[90m━━━━━━━━━━━━━━━━━━━━━━━━━━━━━━━━━━━━━━━━\u001b[0m \u001b[32m410.6/410.6 MB\u001b[0m \u001b[31m2.3 MB/s\u001b[0m eta \u001b[36m0:00:00\u001b[0m\n",
            "\u001b[2K     \u001b[90m━━━━━━━━━━━━━━━━━━━━━━━━━━━━━━━━━━━━━━━━\u001b[0m \u001b[32m121.6/121.6 MB\u001b[0m \u001b[31m14.0 MB/s\u001b[0m eta \u001b[36m0:00:00\u001b[0m\n",
            "\u001b[2K     \u001b[90m━━━━━━━━━━━━━━━━━━━━━━━━━━━━━━━━━━━━━━━━\u001b[0m \u001b[32m56.5/56.5 MB\u001b[0m \u001b[31m29.3 MB/s\u001b[0m eta \u001b[36m0:00:00\u001b[0m\n",
            "\u001b[2K     \u001b[90m━━━━━━━━━━━━━━━━━━━━━━━━━━━━━━━━━━━━━━━━\u001b[0m \u001b[32m124.2/124.2 MB\u001b[0m \u001b[31m13.6 MB/s\u001b[0m eta \u001b[36m0:00:00\u001b[0m\n",
            "\u001b[2K     \u001b[90m━━━━━━━━━━━━━━━━━━━━━━━━━━━━━━━━━━━━━━━━\u001b[0m \u001b[32m196.0/196.0 MB\u001b[0m \u001b[31m6.4 MB/s\u001b[0m eta \u001b[36m0:00:00\u001b[0m\n",
            "\u001b[2K     \u001b[90m━━━━━━━━━━━━━━━━━━━━━━━━━━━━━━━━━━━━━━━━\u001b[0m \u001b[32m166.0/166.0 MB\u001b[0m \u001b[31m10.3 MB/s\u001b[0m eta \u001b[36m0:00:00\u001b[0m\n",
            "\u001b[2K     \u001b[90m━━━━━━━━━━━━━━━━━━━━━━━━━━━━━━━━━━━━━━━━\u001b[0m \u001b[32m99.1/99.1 kB\u001b[0m \u001b[31m15.5 MB/s\u001b[0m eta \u001b[36m0:00:00\u001b[0m\n",
            "\u001b[2K     \u001b[90m━━━━━━━━━━━━━━━━━━━━━━━━━━━━━━━━━━━━━━━━\u001b[0m \u001b[32m21.1/21.1 MB\u001b[0m \u001b[31m85.2 MB/s\u001b[0m eta \u001b[36m0:00:00\u001b[0m\n",
            "\u001b[?25h"
          ]
        }
      ]
    },
    {
      "cell_type": "code",
      "source": [
        "import pandas as pd\n",
        "import os\n",
        "import yaml\n",
        "import shutil\n",
        "import configparser\n",
        "import ultralytics\n",
        "ultralytics.checks() # Check if untralytics successfully installed or not\n",
        "\n",
        "from tqdm import tqdm\n",
        "from ultralytics import YOLO"
      ],
      "metadata": {
        "colab": {
          "base_uri": "https://localhost:8080/"
        },
        "id": "cQohC3yWSosg",
        "outputId": "d9d60d75-1711-489c-fff5-1e07fb307f26"
      },
      "execution_count": 4,
      "outputs": [
        {
          "output_type": "stream",
          "name": "stdout",
          "text": [
            "Ultralytics YOLOv8.1.32 🚀 Python-3.10.12 torch-2.2.1+cu121 CUDA:0 (NVIDIA A100-SXM4-40GB, 40514MiB)\n",
            "Setup complete ✅ (12 CPUs, 83.5 GB RAM, 40.0/201.2 GB disk)\n"
          ]
        }
      ]
    },
    {
      "cell_type": "markdown",
      "source": [
        "## 2. Data Preprocessing - Convert Dataset to YOLO Format"
      ],
      "metadata": {
        "id": "6j5yyS-gTfGb"
      }
    },
    {
      "cell_type": "markdown",
      "source": [
        "![image.png](data:image/png;base64,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)"
      ],
      "metadata": {
        "id": "9HSSjioFTrVE"
      }
    },
    {
      "cell_type": "markdown",
      "source": [
        "At the beginning, we have two main folders: `train` and `test`, which include subfolders corresponding to a tracking video that has been converted into image frames.\n",
        "\n",
        "Each subfolder will have 3 versions corresponding to the results of 3 different models: DPM, FRCNN and SDP (the content of frames in the subfolders is the same, only different information in the det.txt file).\n",
        "\n",
        "Information contained in each folder :\n",
        "- det : contains `det.txt` file, which include information of `class` person in each frame\n",
        "- gt : contains `gt.txt`, which contains ground truth (gt) information of each object in each frame\n",
        "- img1 : contains images arranged in frame order\n",
        "- seqinfo.ini : contains metadata about the image as shown below\n",
        "```\n",
        "[Sequence]\n",
        "name=MOT17-02-DPM\n",
        "imDir=imd1\n",
        "frameRate=30\n",
        "seqLength=600\n",
        "imWidth=1920\n",
        "imHeight=1080\n",
        "imExt=.jpg\n",
        "```\n",
        "det.txt and gt.txt files have the following format\n",
        "```\n",
        "frame id bb_left bb_top bb_width bb_height confident class visibility\n",
        "```\n",
        "\n",
        "In this project, we only use `det.txt` file (only contains person `class`).\n",
        "\n",
        "`gt.txt` file contains many others class and will increase the complexity of the project."
      ],
      "metadata": {
        "id": "LIs8BUXgUE78"
      }
    },
    {
      "cell_type": "markdown",
      "source": [
        "### Define normalize bounding box function\n",
        "Convert boulding box (bb) information from `det.txt` file (bb_left, bb_top, bb_width, bb_height) to YOLO format (x_min, y_min, width, height) and then normalize to [0,1] range"
      ],
      "metadata": {
        "id": "d0sbkppjlrjt"
      }
    },
    {
      "cell_type": "code",
      "source": [
        "def convert_to_yolo_format(bb, img_width, img_height):\n",
        "    x_center = bb['bb_left'] + (bb['bb_width'] / 2)\n",
        "    y_center = bb['bb_top'] + (bb['bb_height'] / 2)\n",
        "\n",
        "    # Normalize the coordinates by the dimensions of the image\n",
        "    x_center /= img_width\n",
        "    y_center /= img_height\n",
        "    bb_width_normalized = bb['bb_width'] / img_width\n",
        "    bb_height_normalized = bb['bb_height'] / img_height\n",
        "\n",
        "    # Clip the values to make sure they are between 0 and 1\n",
        "    x_center = max(min(x_center, 1), 0)\n",
        "    y_center = max(min(y_center, 1), 0)\n",
        "    bb_width_normalized = max(min(bb_width_normalized, 1), 0)\n",
        "    bb_height_normalized = max(min(bb_height_normalized, 1), 0)\n",
        "\n",
        "    return (x_center, y_center, bb_width_normalized, bb_height_normalized)"
      ],
      "metadata": {
        "id": "ZBY3Ol2uTY3J"
      },
      "execution_count": 5,
      "outputs": []
    },
    {
      "cell_type": "markdown",
      "source": [
        "### Define a function to get information from `seqinfo.ini` and `det.txt` files\n",
        "Read the `seqinfo.ini` file and gets information about the image's width and height in subfolder.\n",
        "\n",
        "Read the `det.txt` file and gets information about boulding box.\n",
        "\n",
        "Finally, create a label_file to save information (Because YOLO's format requires each image_file to have a corresponding label_file)"
      ],
      "metadata": {
        "id": "OrQ3EjiWpddg"
      }
    },
    {
      "cell_type": "code",
      "source": [
        "def process_folder(folder_path):\n",
        "    # Read image dimensions from seqinfo.ini\n",
        "    config = configparser.ConfigParser()\n",
        "    config.read(os.path.join(folder_path, 'seqinfo.ini'))\n",
        "    img_width = int(config['Sequence']['imWidth'])\n",
        "    img_height = int(config['Sequence']['imHeight'])\n",
        "\n",
        "    # Load ground truth data\n",
        "    gt_path = os.path.join(folder_path, 'det/det.txt')\n",
        "    gt_data = pd.read_csv(\n",
        "        gt_path,\n",
        "        header=None,\n",
        "        names=['frame', 'id', 'bb_left', 'bb_top', 'bb_width', 'bb_height', 'conf', 'class', 'visibility']\n",
        "    )\n",
        "\n",
        "    labels_folder = os.path.join(folder_path, 'labels')\n",
        "    os.makedirs(labels_folder, exist_ok=True)\n",
        "\n",
        "    for frame_number in gt_data['frame'].unique():\n",
        "        frame_data = gt_data[gt_data['frame'] == frame_number]\n",
        "        label_file = os.path.join(labels_folder, f'{frame_number:06d}.txt')\n",
        "\n",
        "        with open(label_file, 'w') as file:\n",
        "            for _, row in frame_data.iterrows():\n",
        "                yolo_bb = convert_to_yolo_format(row, img_width, img_height)\n",
        "                file.write(f'0 {yolo_bb[0]} {yolo_bb[1]} {yolo_bb[2]} {yolo_bb[3]}\\n')"
      ],
      "metadata": {
        "id": "JFdBASh4pm78"
      },
      "execution_count": 6,
      "outputs": []
    },
    {
      "cell_type": "markdown",
      "source": [
        "### Define a function to process whole dataset\n",
        "Process all folder in 1 main folder (train/test). Note that we only use 1 among 3 version (FRCNN), the others will be removed."
      ],
      "metadata": {
        "id": "NMvo4OEFx4CK"
      }
    },
    {
      "cell_type": "code",
      "source": [
        "def process_all_folders(base_directory):\n",
        "    # List all subdirectories in the base directory\n",
        "    for folder_name in tqdm(os.listdir(base_directory)):\n",
        "        folder_path = os.path.join(base_directory, folder_name)\n",
        "\n",
        "        # Delete folder not contain 'FRCNN' in name\n",
        "        if 'FRCNN' not in folder_name:\n",
        "            os.system(f'rm -rf {folder_path}')\n",
        "            continue\n",
        "\n",
        "        if os.path.isdir(folder_path):\n",
        "            process_folder(folder_path)"
      ],
      "metadata": {
        "id": "IGy3dVZsyCY8"
      },
      "execution_count": 7,
      "outputs": []
    },
    {
      "cell_type": "markdown",
      "source": [
        "### Data Processing"
      ],
      "metadata": {
        "id": "3AQkBYGv0lWB"
      }
    },
    {
      "cell_type": "code",
      "source": [
        "process_all_folders('MOT17/train')\n",
        "process_all_folders('MOT17/test')"
      ],
      "metadata": {
        "colab": {
          "base_uri": "https://localhost:8080/"
        },
        "id": "GiHEOpnx0tH8",
        "outputId": "977f6448-a602-4300-b692-494b6e78fb77"
      },
      "execution_count": 8,
      "outputs": [
        {
          "output_type": "stream",
          "name": "stderr",
          "text": [
            "100%|██████████| 21/21 [00:08<00:00,  2.61it/s]\n",
            "100%|██████████| 21/21 [00:11<00:00,  1.90it/s]\n"
          ]
        }
      ]
    },
    {
      "cell_type": "markdown",
      "source": [
        "After processing, the result will be as shown below\n",
        "![image.png](data:image/png;base64,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)"
      ],
      "metadata": {
        "id": "1uwXYSuz1h2v"
      }
    },
    {
      "cell_type": "markdown",
      "source": [
        "### Re-Structure dataset\n",
        "Next step, move all image and label files from each subfolder of main folder (train and test) into only 1 unique folder. Delete all others subfolder."
      ],
      "metadata": {
        "id": "vuKoDzuS1-k7"
      }
    },
    {
      "cell_type": "markdown",
      "source": [
        "#### Define move file function\n",
        "Because the file names in each folder are the same (Starting from 000001.jpg). To be able to move into the same folder, we need to add the `folder_name` to the beginning of the `file_name` so that the files are not overridden"
      ],
      "metadata": {
        "id": "FN5qoJQN5R53"
      }
    },
    {
      "cell_type": "code",
      "source": [
        "def rename_and_move_files(src_folder, dst_folder, folder_name, file_extension):\n",
        "    for filename in os.listdir(src_folder):\n",
        "        if filename.endswith(file_extension):\n",
        "            # Include folder name in the new filename\n",
        "            new_filename = f'{folder_name}_{filename}'\n",
        "            shutil.move(os.path.join(src_folder, filename),\n",
        "                        os.path.join(dst_folder, new_filename))"
      ],
      "metadata": {
        "id": "R7wx0M5T1zxT"
      },
      "execution_count": 9,
      "outputs": []
    },
    {
      "cell_type": "markdown",
      "source": [
        "#### Define a function to move file from all folders\n",
        "Next, define a function to move all files from subfolders in base_directory into 2 main folder `images` and `labels`.\n",
        "\n",
        "For each subfolder, image files (.jpg) and label file (.txt) will be moved into new direction."
      ],
      "metadata": {
        "id": "VCPSZiJC7mMv"
      }
    },
    {
      "cell_type": "code",
      "source": [
        "def move_files_all_folders(base_directory):\n",
        "    images_dir = os.path.join(base_directory, 'images')\n",
        "    labels_dir = os.path.join(base_directory, 'labels')\n",
        "    os.makedirs(images_dir, exist_ok=True)\n",
        "    os.makedirs(labels_dir, exist_ok=True)\n",
        "\n",
        "    for folder_name in tqdm(os.listdir(base_directory)):\n",
        "        if folder_name in ['images', 'labels']:  # Skip these folders\n",
        "            continue\n",
        "\n",
        "        folder_path = os.path.join(base_directory, folder_name)\n",
        "        if os.path.isdir(folder_path):\n",
        "            rename_and_move_files(os.path.join(folder_path, 'img1'), images_dir, folder_name, '.jpg')\n",
        "            rename_and_move_files(os.path.join(folder_path, 'labels'), labels_dir, folder_name, '.txt')"
      ],
      "metadata": {
        "id": "GEtVRG5P8lud"
      },
      "execution_count": 10,
      "outputs": []
    },
    {
      "cell_type": "code",
      "source": [
        "move_files_all_folders('MOT17/train')\n",
        "move_files_all_folders('MOT17/test')"
      ],
      "metadata": {
        "colab": {
          "base_uri": "https://localhost:8080/"
        },
        "id": "hPqLsnzkO7VQ",
        "outputId": "791ed041-92c2-4ac0-f5de-77e0a289d128"
      },
      "execution_count": 11,
      "outputs": [
        {
          "output_type": "stream",
          "name": "stderr",
          "text": [
            "100%|██████████| 9/9 [00:00<00:00, 26.16it/s]\n",
            "100%|██████████| 9/9 [00:00<00:00, 23.45it/s]\n"
          ]
        }
      ]
    },
    {
      "cell_type": "markdown",
      "source": [
        "#### Define function to delete subfolders\n",
        "Next step, delete all subfolders in base_directory, except `images` and `labels`.\n",
        "\n",
        "For each subfolder that is not 'images' or 'labels', `shutil.rmtree()` method is used to remove an entire directory tree rooted at a specified path, including all files and subdirectories within it."
      ],
      "metadata": {
        "id": "qH_xj6oQB2D2"
      }
    },
    {
      "cell_type": "code",
      "source": [
        "def delete_subfolders(base_directory):\n",
        "    for folder_name in os.listdir(base_directory):\n",
        "        folder_path = os.path.join(base_directory, folder_name)\n",
        "        if os.path.isdir(folder_path) and folder_name not in ['images', 'labels']:\n",
        "            shutil.rmtree(folder_path)\n",
        "            print(f\"Deleted folder: {folder_name}\")"
      ],
      "metadata": {
        "id": "JYeKuO87DNvG"
      },
      "execution_count": 12,
      "outputs": []
    },
    {
      "cell_type": "markdown",
      "source": [
        "#### Deleting subfolders"
      ],
      "metadata": {
        "id": "rYm2JgkdEKGU"
      }
    },
    {
      "cell_type": "code",
      "source": [
        "# Delete all subfolders except 'images' and 'labels'\n",
        "delete_subfolders('MOT17/train')\n",
        "delete_subfolders('MOT17/test')"
      ],
      "metadata": {
        "colab": {
          "base_uri": "https://localhost:8080/"
        },
        "id": "AgzTh7TkEQxl",
        "outputId": "c7eb514c-f957-4140-feae-e29bb24bde2c"
      },
      "execution_count": 13,
      "outputs": [
        {
          "output_type": "stream",
          "name": "stdout",
          "text": [
            "Deleted folder: MOT17-09-FRCNN\n",
            "Deleted folder: MOT17-05-FRCNN\n",
            "Deleted folder: MOT17-13-FRCNN\n",
            "Deleted folder: MOT17-02-FRCNN\n",
            "Deleted folder: MOT17-04-FRCNN\n",
            "Deleted folder: MOT17-11-FRCNN\n",
            "Deleted folder: MOT17-10-FRCNN\n",
            "Deleted folder: MOT17-07-FRCNN\n",
            "Deleted folder: MOT17-01-FRCNN\n",
            "Deleted folder: MOT17-14-FRCNN\n",
            "Deleted folder: MOT17-12-FRCNN\n",
            "Deleted folder: MOT17-08-FRCNN\n",
            "Deleted folder: MOT17-03-FRCNN\n",
            "Deleted folder: MOT17-06-FRCNN\n"
          ]
        }
      ]
    },
    {
      "cell_type": "markdown",
      "source": [
        "### Setup YAML file\n",
        "Setup YAML file which contains information about train/test folder and number of `class` of this project"
      ],
      "metadata": {
        "id": "2_ImAs-OFzBM"
      }
    },
    {
      "cell_type": "code",
      "source": [
        "class_labels = [\n",
        "    'objects'\n",
        "]\n",
        "dataset_root_dir = os.path.join(\n",
        "    os.getcwd(),\n",
        "    'MOT17'\n",
        ")\n",
        "yolo_yaml_path = os.path.join(\n",
        "    dataset_root_dir,\n",
        "    'mot17_data.yml'\n",
        ")\n",
        "\n",
        "data_yaml = {\n",
        "    'path': dataset_root_dir,\n",
        "    'train': 'train/images',\n",
        "    'val': 'test/images',\n",
        "    'nc': len(class_labels),\n",
        "    'names': class_labels\n",
        "}\n",
        "\n",
        "with open(yolo_yaml_path, 'w') as f:\n",
        "    yaml.dump(data_yaml, f, default_flow_style=False)"
      ],
      "metadata": {
        "id": "e71VeoJEGS5X"
      },
      "execution_count": 14,
      "outputs": []
    },
    {
      "cell_type": "markdown",
      "source": [
        "Final result\n",
        "\n",
        "![image.png](data:image/png;base64,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)"
      ],
      "metadata": {
        "id": "I33130ymH-EN"
      }
    },
    {
      "cell_type": "markdown",
      "source": [
        "## 3. Setup Module Detector: YOLOv9"
      ],
      "metadata": {
        "id": "aFUa9iY3IZ92"
      }
    },
    {
      "cell_type": "markdown",
      "source": [
        "### Train YOLOv8 Model"
      ],
      "metadata": {
        "id": "B-MMmXCULT2u"
      }
    },
    {
      "cell_type": "code",
      "source": [
        "# Load the YOLOv8 model\n",
        "model = YOLO('yolov8s.pt')\n",
        "\n",
        "# Config\n",
        "epochs = 30\n",
        "batch_size = -1 # Auto scale based on GPU memory\n",
        "img_size = 640\n",
        "project_name = 'models/yolo'\n",
        "name = 'yolov8s_mot17_det'\n",
        "\n",
        "# Train the model\n",
        "results = model.train(\n",
        "    data=yolo_yaml_path,\n",
        "    epochs=epochs,\n",
        "    batch=batch_size,\n",
        "    imgsz=img_size,\n",
        "    project=project_name,\n",
        "    name=name\n",
        ")"
      ],
      "metadata": {
        "colab": {
          "base_uri": "https://localhost:8080/"
        },
        "id": "ZYkZUp8vIAv7",
        "outputId": "e7b17902-f159-4f87-d87c-2c651c21382f"
      },
      "execution_count": 15,
      "outputs": [
        {
          "output_type": "stream",
          "name": "stdout",
          "text": [
            "Downloading https://github.com/ultralytics/assets/releases/download/v8.1.0/yolov8s.pt to 'yolov8s.pt'...\n"
          ]
        },
        {
          "output_type": "stream",
          "name": "stderr",
          "text": [
            "100%|██████████| 21.5M/21.5M [00:00<00:00, 338MB/s]\n"
          ]
        },
        {
          "output_type": "stream",
          "name": "stdout",
          "text": [
            "Ultralytics YOLOv8.1.32 🚀 Python-3.10.12 torch-2.2.1+cu121 CUDA:0 (NVIDIA A100-SXM4-40GB, 40514MiB)\n",
            "\u001b[34m\u001b[1mengine/trainer: \u001b[0mtask=detect, mode=train, model=yolov8s.pt, data=/content/MOT17/mot17_data.yml, epochs=30, time=None, patience=100, batch=-1, imgsz=640, save=True, save_period=-1, cache=False, device=None, workers=8, project=models/yolo, name=yolov8s_mot17_det, exist_ok=False, pretrained=True, optimizer=auto, verbose=True, seed=0, deterministic=True, single_cls=False, rect=False, cos_lr=False, close_mosaic=10, resume=False, amp=True, fraction=1.0, profile=False, freeze=None, multi_scale=False, overlap_mask=True, mask_ratio=4, dropout=0.0, val=True, split=val, save_json=False, save_hybrid=False, conf=None, iou=0.7, max_det=300, half=False, dnn=False, plots=True, source=None, vid_stride=1, stream_buffer=False, visualize=False, augment=False, agnostic_nms=False, classes=None, retina_masks=False, embed=None, show=False, save_frames=False, save_txt=False, save_conf=False, save_crop=False, show_labels=True, show_conf=True, show_boxes=True, line_width=None, format=torchscript, keras=False, optimize=False, int8=False, dynamic=False, simplify=False, opset=None, workspace=4, nms=False, lr0=0.01, lrf=0.01, momentum=0.937, weight_decay=0.0005, warmup_epochs=3.0, warmup_momentum=0.8, warmup_bias_lr=0.1, box=7.5, cls=0.5, dfl=1.5, pose=12.0, kobj=1.0, label_smoothing=0.0, nbs=64, hsv_h=0.015, hsv_s=0.7, hsv_v=0.4, degrees=0.0, translate=0.1, scale=0.5, shear=0.0, perspective=0.0, flipud=0.0, fliplr=0.5, mosaic=1.0, mixup=0.0, copy_paste=0.0, auto_augment=randaugment, erasing=0.4, crop_fraction=1.0, cfg=None, tracker=botsort.yaml, save_dir=models/yolo/yolov8s_mot17_det\n",
            "Downloading https://ultralytics.com/assets/Arial.ttf to '/root/.config/Ultralytics/Arial.ttf'...\n"
          ]
        },
        {
          "output_type": "stream",
          "name": "stderr",
          "text": [
            "100%|██████████| 755k/755k [00:00<00:00, 119MB/s]\n"
          ]
        },
        {
          "output_type": "stream",
          "name": "stdout",
          "text": [
            "Overriding model.yaml nc=80 with nc=1\n",
            "\n",
            "                   from  n    params  module                                       arguments                     \n",
            "  0                  -1  1       928  ultralytics.nn.modules.conv.Conv             [3, 32, 3, 2]                 \n",
            "  1                  -1  1     18560  ultralytics.nn.modules.conv.Conv             [32, 64, 3, 2]                \n",
            "  2                  -1  1     29056  ultralytics.nn.modules.block.C2f             [64, 64, 1, True]             \n",
            "  3                  -1  1     73984  ultralytics.nn.modules.conv.Conv             [64, 128, 3, 2]               \n",
            "  4                  -1  2    197632  ultralytics.nn.modules.block.C2f             [128, 128, 2, True]           \n",
            "  5                  -1  1    295424  ultralytics.nn.modules.conv.Conv             [128, 256, 3, 2]              \n",
            "  6                  -1  2    788480  ultralytics.nn.modules.block.C2f             [256, 256, 2, True]           \n",
            "  7                  -1  1   1180672  ultralytics.nn.modules.conv.Conv             [256, 512, 3, 2]              \n",
            "  8                  -1  1   1838080  ultralytics.nn.modules.block.C2f             [512, 512, 1, True]           \n",
            "  9                  -1  1    656896  ultralytics.nn.modules.block.SPPF            [512, 512, 5]                 \n",
            " 10                  -1  1         0  torch.nn.modules.upsampling.Upsample         [None, 2, 'nearest']          \n",
            " 11             [-1, 6]  1         0  ultralytics.nn.modules.conv.Concat           [1]                           \n",
            " 12                  -1  1    591360  ultralytics.nn.modules.block.C2f             [768, 256, 1]                 \n",
            " 13                  -1  1         0  torch.nn.modules.upsampling.Upsample         [None, 2, 'nearest']          \n",
            " 14             [-1, 4]  1         0  ultralytics.nn.modules.conv.Concat           [1]                           \n",
            " 15                  -1  1    148224  ultralytics.nn.modules.block.C2f             [384, 128, 1]                 \n",
            " 16                  -1  1    147712  ultralytics.nn.modules.conv.Conv             [128, 128, 3, 2]              \n",
            " 17            [-1, 12]  1         0  ultralytics.nn.modules.conv.Concat           [1]                           \n",
            " 18                  -1  1    493056  ultralytics.nn.modules.block.C2f             [384, 256, 1]                 \n",
            " 19                  -1  1    590336  ultralytics.nn.modules.conv.Conv             [256, 256, 3, 2]              \n",
            " 20             [-1, 9]  1         0  ultralytics.nn.modules.conv.Concat           [1]                           \n",
            " 21                  -1  1   1969152  ultralytics.nn.modules.block.C2f             [768, 512, 1]                 \n",
            " 22        [15, 18, 21]  1   2116435  ultralytics.nn.modules.head.Detect           [1, [128, 256, 512]]          \n",
            "Model summary: 225 layers, 11135987 parameters, 11135971 gradients, 28.6 GFLOPs\n",
            "\n",
            "Transferred 349/355 items from pretrained weights\n",
            "\u001b[34m\u001b[1mTensorBoard: \u001b[0mStart with 'tensorboard --logdir models/yolo/yolov8s_mot17_det', view at http://localhost:6006/\n",
            "Freezing layer 'model.22.dfl.conv.weight'\n",
            "\u001b[34m\u001b[1mAMP: \u001b[0mrunning Automatic Mixed Precision (AMP) checks with YOLOv8n...\n",
            "Downloading https://github.com/ultralytics/assets/releases/download/v8.1.0/yolov8n.pt to 'yolov8n.pt'...\n"
          ]
        },
        {
          "output_type": "stream",
          "name": "stderr",
          "text": [
            "100%|██████████| 6.23M/6.23M [00:00<00:00, 256MB/s]\n"
          ]
        },
        {
          "output_type": "stream",
          "name": "stdout",
          "text": [
            "\u001b[34m\u001b[1mAMP: \u001b[0mchecks passed ✅\n",
            "\u001b[34m\u001b[1mAutoBatch: \u001b[0mComputing optimal batch size for imgsz=640\n",
            "\u001b[34m\u001b[1mAutoBatch: \u001b[0mCUDA:0 (NVIDIA A100-SXM4-40GB) 39.56G total, 0.25G reserved, 0.11G allocated, 39.20G free\n",
            "      Params      GFLOPs  GPU_mem (GB)  forward (ms) backward (ms)                   input                  output\n",
            "    11135987       28.65         0.480         25.91         74.38        (1, 3, 640, 640)                    list\n",
            "    11135987       57.29         0.732          20.6         44.71        (2, 3, 640, 640)                    list\n",
            "    11135987       114.6         1.074         20.23         46.07        (4, 3, 640, 640)                    list\n",
            "    11135987       229.2         1.839         23.64         50.76        (8, 3, 640, 640)                    list\n",
            "    11135987       458.4         3.620         25.06         54.05       (16, 3, 640, 640)                    list\n",
            "\u001b[34m\u001b[1mAutoBatch: \u001b[0mUsing batch-size 112 for CUDA:0 23.85G/39.56G (60%) ✅\n"
          ]
        },
        {
          "output_type": "stream",
          "name": "stderr",
          "text": [
            "\u001b[34m\u001b[1mtrain: \u001b[0mScanning /content/MOT17/train/labels... 5316 images, 0 backgrounds, 0 corrupt: 100%|██████████| 5316/5316 [00:04<00:00, 1300.71it/s]\n"
          ]
        },
        {
          "output_type": "stream",
          "name": "stdout",
          "text": [
            "\u001b[34m\u001b[1mtrain: \u001b[0mNew cache created: /content/MOT17/train/labels.cache\n",
            "\u001b[34m\u001b[1malbumentations: \u001b[0mBlur(p=0.01, blur_limit=(3, 7)), MedianBlur(p=0.01, blur_limit=(3, 7)), ToGray(p=0.01), CLAHE(p=0.01, clip_limit=(1, 4.0), tile_grid_size=(8, 8))\n"
          ]
        },
        {
          "output_type": "stream",
          "name": "stderr",
          "text": [
            "\u001b[34m\u001b[1mval: \u001b[0mScanning /content/MOT17/test/labels... 5908 images, 11 backgrounds, 0 corrupt: 100%|██████████| 5919/5919 [00:05<00:00, 1008.33it/s]\n"
          ]
        },
        {
          "output_type": "stream",
          "name": "stdout",
          "text": [
            "\u001b[34m\u001b[1mval: \u001b[0mNew cache created: /content/MOT17/test/labels.cache\n",
            "Plotting labels to models/yolo/yolov8s_mot17_det/labels.jpg... \n",
            "\u001b[34m\u001b[1moptimizer:\u001b[0m 'optimizer=auto' found, ignoring 'lr0=0.01' and 'momentum=0.937' and determining best 'optimizer', 'lr0' and 'momentum' automatically... \n",
            "\u001b[34m\u001b[1moptimizer:\u001b[0m AdamW(lr=0.002, momentum=0.9) with parameter groups 57 weight(decay=0.0), 64 weight(decay=0.000875), 63 bias(decay=0.0)\n",
            "\u001b[34m\u001b[1mTensorBoard: \u001b[0mmodel graph visualization added ✅\n",
            "Image sizes 640 train, 640 val\n",
            "Using 8 dataloader workers\n",
            "Logging results to \u001b[1mmodels/yolo/yolov8s_mot17_det\u001b[0m\n",
            "Starting training for 30 epochs...\n",
            "\n",
            "      Epoch    GPU_mem   box_loss   cls_loss   dfl_loss  Instances       Size\n"
          ]
        },
        {
          "output_type": "stream",
          "name": "stderr",
          "text": [
            "       1/30      29.4G      1.171     0.9264     0.9985       1303        640: 100%|██████████| 48/48 [00:37<00:00,  1.27it/s]\n",
            "                 Class     Images  Instances      Box(P          R      mAP50  mAP50-95): 100%|██████████| 27/27 [00:29<00:00,  1.10s/it]\n"
          ]
        },
        {
          "output_type": "stream",
          "name": "stdout",
          "text": [
            "                   all       5919     110141      0.871      0.803      0.893      0.587\n",
            "\n",
            "      Epoch    GPU_mem   box_loss   cls_loss   dfl_loss  Instances       Size\n"
          ]
        },
        {
          "output_type": "stream",
          "name": "stderr",
          "text": [
            "       2/30      32.8G     0.9951     0.5935     0.9212       1188        640: 100%|██████████| 48/48 [00:27<00:00,  1.73it/s]\n",
            "                 Class     Images  Instances      Box(P          R      mAP50  mAP50-95): 100%|██████████| 27/27 [00:25<00:00,  1.06it/s]\n"
          ]
        },
        {
          "output_type": "stream",
          "name": "stdout",
          "text": [
            "                   all       5919     110141      0.817      0.753      0.851      0.531\n",
            "\n",
            "      Epoch    GPU_mem   box_loss   cls_loss   dfl_loss  Instances       Size\n"
          ]
        },
        {
          "output_type": "stream",
          "name": "stderr",
          "text": [
            "       3/30        31G     0.9694     0.5792     0.9209       1098        640: 100%|██████████| 48/48 [00:27<00:00,  1.72it/s]\n",
            "                 Class     Images  Instances      Box(P          R      mAP50  mAP50-95): 100%|██████████| 27/27 [00:25<00:00,  1.04it/s]\n"
          ]
        },
        {
          "output_type": "stream",
          "name": "stdout",
          "text": [
            "                   all       5919     110141      0.826      0.743       0.83      0.531\n",
            "\n",
            "      Epoch    GPU_mem   box_loss   cls_loss   dfl_loss  Instances       Size\n"
          ]
        },
        {
          "output_type": "stream",
          "name": "stderr",
          "text": [
            "       4/30      31.7G     0.9463     0.5622      0.916       1246        640: 100%|██████████| 48/48 [00:27<00:00,  1.75it/s]\n",
            "                 Class     Images  Instances      Box(P          R      mAP50  mAP50-95): 100%|██████████| 27/27 [00:26<00:00,  1.02it/s]\n"
          ]
        },
        {
          "output_type": "stream",
          "name": "stdout",
          "text": [
            "                   all       5919     110141      0.862       0.79      0.873      0.548\n",
            "\n",
            "      Epoch    GPU_mem   box_loss   cls_loss   dfl_loss  Instances       Size\n"
          ]
        },
        {
          "output_type": "stream",
          "name": "stderr",
          "text": [
            "       5/30      27.8G      0.903     0.5247     0.9064       1102        640: 100%|██████████| 48/48 [00:26<00:00,  1.79it/s]\n",
            "                 Class     Images  Instances      Box(P          R      mAP50  mAP50-95): 100%|██████████| 27/27 [00:26<00:00,  1.02it/s]\n"
          ]
        },
        {
          "output_type": "stream",
          "name": "stdout",
          "text": [
            "                   all       5919     110141      0.889      0.815      0.902      0.598\n",
            "\n",
            "      Epoch    GPU_mem   box_loss   cls_loss   dfl_loss  Instances       Size\n"
          ]
        },
        {
          "output_type": "stream",
          "name": "stderr",
          "text": [
            "       6/30        28G     0.8573     0.4939     0.8936       1218        640: 100%|██████████| 48/48 [00:25<00:00,  1.85it/s]\n",
            "                 Class     Images  Instances      Box(P          R      mAP50  mAP50-95): 100%|██████████| 27/27 [00:26<00:00,  1.01it/s]\n"
          ]
        },
        {
          "output_type": "stream",
          "name": "stdout",
          "text": [
            "                   all       5919     110141      0.885      0.805      0.896      0.601\n",
            "\n",
            "      Epoch    GPU_mem   box_loss   cls_loss   dfl_loss  Instances       Size\n"
          ]
        },
        {
          "output_type": "stream",
          "name": "stderr",
          "text": [
            "       7/30      29.1G     0.8292     0.4883     0.8884       1293        640: 100%|██████████| 48/48 [00:27<00:00,  1.76it/s]\n",
            "                 Class     Images  Instances      Box(P          R      mAP50  mAP50-95): 100%|██████████| 27/27 [00:26<00:00,  1.03it/s]\n"
          ]
        },
        {
          "output_type": "stream",
          "name": "stdout",
          "text": [
            "                   all       5919     110141      0.872       0.81      0.897      0.578\n",
            "\n",
            "      Epoch    GPU_mem   box_loss   cls_loss   dfl_loss  Instances       Size\n"
          ]
        },
        {
          "output_type": "stream",
          "name": "stderr",
          "text": [
            "       8/30      29.8G     0.7922     0.4597     0.8787       1293        640: 100%|██████████| 48/48 [00:27<00:00,  1.75it/s]\n",
            "                 Class     Images  Instances      Box(P          R      mAP50  mAP50-95): 100%|██████████| 27/27 [00:26<00:00,  1.03it/s]\n"
          ]
        },
        {
          "output_type": "stream",
          "name": "stdout",
          "text": [
            "                   all       5919     110141       0.89      0.815      0.899      0.598\n",
            "\n",
            "      Epoch    GPU_mem   box_loss   cls_loss   dfl_loss  Instances       Size\n"
          ]
        },
        {
          "output_type": "stream",
          "name": "stderr",
          "text": [
            "       9/30      31.7G     0.7777     0.4532     0.8771       1293        640: 100%|██████████| 48/48 [00:26<00:00,  1.80it/s]\n",
            "                 Class     Images  Instances      Box(P          R      mAP50  mAP50-95): 100%|██████████| 27/27 [00:25<00:00,  1.06it/s]\n"
          ]
        },
        {
          "output_type": "stream",
          "name": "stdout",
          "text": [
            "                   all       5919     110141       0.89      0.818      0.899      0.601\n",
            "\n",
            "      Epoch    GPU_mem   box_loss   cls_loss   dfl_loss  Instances       Size\n"
          ]
        },
        {
          "output_type": "stream",
          "name": "stderr",
          "text": [
            "      10/30        31G     0.7736     0.4437     0.8735       1025        640: 100%|██████████| 48/48 [00:27<00:00,  1.74it/s]\n",
            "                 Class     Images  Instances      Box(P          R      mAP50  mAP50-95): 100%|██████████| 27/27 [00:26<00:00,  1.02it/s]\n"
          ]
        },
        {
          "output_type": "stream",
          "name": "stdout",
          "text": [
            "                   all       5919     110141      0.899      0.804      0.899      0.615\n",
            "\n",
            "      Epoch    GPU_mem   box_loss   cls_loss   dfl_loss  Instances       Size\n"
          ]
        },
        {
          "output_type": "stream",
          "name": "stderr",
          "text": [
            "      11/30      29.1G     0.7442     0.4252     0.8677       1358        640: 100%|██████████| 48/48 [00:28<00:00,  1.68it/s]\n",
            "                 Class     Images  Instances      Box(P          R      mAP50  mAP50-95): 100%|██████████| 27/27 [00:24<00:00,  1.10it/s]\n"
          ]
        },
        {
          "output_type": "stream",
          "name": "stdout",
          "text": [
            "                   all       5919     110141       0.89      0.825      0.911      0.632\n",
            "\n",
            "      Epoch    GPU_mem   box_loss   cls_loss   dfl_loss  Instances       Size\n"
          ]
        },
        {
          "output_type": "stream",
          "name": "stderr",
          "text": [
            "      12/30      29.6G     0.7324     0.4178     0.8641       1023        640: 100%|██████████| 48/48 [00:27<00:00,  1.77it/s]\n",
            "                 Class     Images  Instances      Box(P          R      mAP50  mAP50-95): 100%|██████████| 27/27 [00:26<00:00,  1.03it/s]\n"
          ]
        },
        {
          "output_type": "stream",
          "name": "stdout",
          "text": [
            "                   all       5919     110141      0.897      0.802      0.897      0.629\n",
            "\n",
            "      Epoch    GPU_mem   box_loss   cls_loss   dfl_loss  Instances       Size\n"
          ]
        },
        {
          "output_type": "stream",
          "name": "stderr",
          "text": [
            "      13/30      29.4G     0.7172     0.4158     0.8618       1292        640: 100%|██████████| 48/48 [00:26<00:00,  1.80it/s]\n",
            "                 Class     Images  Instances      Box(P          R      mAP50  mAP50-95): 100%|██████████| 27/27 [00:26<00:00,  1.02it/s]\n"
          ]
        },
        {
          "output_type": "stream",
          "name": "stdout",
          "text": [
            "                   all       5919     110141      0.893      0.808        0.9      0.615\n",
            "\n",
            "      Epoch    GPU_mem   box_loss   cls_loss   dfl_loss  Instances       Size\n"
          ]
        },
        {
          "output_type": "stream",
          "name": "stderr",
          "text": [
            "      14/30      30.6G     0.7042     0.4064     0.8608       1090        640: 100%|██████████| 48/48 [00:27<00:00,  1.76it/s]\n",
            "                 Class     Images  Instances      Box(P          R      mAP50  mAP50-95): 100%|██████████| 27/27 [00:26<00:00,  1.04it/s]\n"
          ]
        },
        {
          "output_type": "stream",
          "name": "stdout",
          "text": [
            "                   all       5919     110141      0.897      0.824      0.906      0.618\n",
            "\n",
            "      Epoch    GPU_mem   box_loss   cls_loss   dfl_loss  Instances       Size\n"
          ]
        },
        {
          "output_type": "stream",
          "name": "stderr",
          "text": [
            "      15/30      28.5G     0.7032     0.3995     0.8585       1161        640: 100%|██████████| 48/48 [00:27<00:00,  1.77it/s]\n",
            "                 Class     Images  Instances      Box(P          R      mAP50  mAP50-95): 100%|██████████| 27/27 [00:25<00:00,  1.06it/s]\n"
          ]
        },
        {
          "output_type": "stream",
          "name": "stdout",
          "text": [
            "                   all       5919     110141      0.893      0.804        0.9      0.625\n",
            "\n",
            "      Epoch    GPU_mem   box_loss   cls_loss   dfl_loss  Instances       Size\n"
          ]
        },
        {
          "output_type": "stream",
          "name": "stderr",
          "text": [
            "      16/30      28.2G     0.6839     0.3917     0.8577       1431        640: 100%|██████████| 48/48 [00:27<00:00,  1.75it/s]\n",
            "                 Class     Images  Instances      Box(P          R      mAP50  mAP50-95): 100%|██████████| 27/27 [00:25<00:00,  1.06it/s]\n"
          ]
        },
        {
          "output_type": "stream",
          "name": "stdout",
          "text": [
            "                   all       5919     110141      0.892      0.817      0.908      0.636\n",
            "\n",
            "      Epoch    GPU_mem   box_loss   cls_loss   dfl_loss  Instances       Size\n"
          ]
        },
        {
          "output_type": "stream",
          "name": "stderr",
          "text": [
            "      17/30      29.5G     0.6795     0.3883      0.855       1242        640: 100%|██████████| 48/48 [00:28<00:00,  1.68it/s]\n",
            "                 Class     Images  Instances      Box(P          R      mAP50  mAP50-95): 100%|██████████| 27/27 [00:25<00:00,  1.08it/s]\n"
          ]
        },
        {
          "output_type": "stream",
          "name": "stdout",
          "text": [
            "                   all       5919     110141      0.895      0.814      0.908      0.625\n",
            "\n",
            "      Epoch    GPU_mem   box_loss   cls_loss   dfl_loss  Instances       Size\n"
          ]
        },
        {
          "output_type": "stream",
          "name": "stderr",
          "text": [
            "      18/30      27.4G     0.6607     0.3734     0.8512       1120        640: 100%|██████████| 48/48 [00:27<00:00,  1.74it/s]\n",
            "                 Class     Images  Instances      Box(P          R      mAP50  mAP50-95): 100%|██████████| 27/27 [00:26<00:00,  1.03it/s]\n"
          ]
        },
        {
          "output_type": "stream",
          "name": "stdout",
          "text": [
            "                   all       5919     110141       0.89      0.829       0.91       0.64\n",
            "\n",
            "      Epoch    GPU_mem   box_loss   cls_loss   dfl_loss  Instances       Size\n"
          ]
        },
        {
          "output_type": "stream",
          "name": "stderr",
          "text": [
            "      19/30      26.9G     0.6436     0.3686     0.8498       1128        640: 100%|██████████| 48/48 [00:26<00:00,  1.84it/s]\n",
            "                 Class     Images  Instances      Box(P          R      mAP50  mAP50-95): 100%|██████████| 27/27 [00:26<00:00,  1.01it/s]"
          ]
        },
        {
          "output_type": "stream",
          "name": "stdout",
          "text": [
            "                   all       5919     110141      0.895      0.811      0.904      0.633\n"
          ]
        },
        {
          "output_type": "stream",
          "name": "stderr",
          "text": [
            "\n"
          ]
        },
        {
          "output_type": "stream",
          "name": "stdout",
          "text": [
            "\n",
            "      Epoch    GPU_mem   box_loss   cls_loss   dfl_loss  Instances       Size\n"
          ]
        },
        {
          "output_type": "stream",
          "name": "stderr",
          "text": [
            "      20/30      31.9G      0.642     0.3671     0.8492       1029        640: 100%|██████████| 48/48 [00:25<00:00,  1.85it/s]\n",
            "                 Class     Images  Instances      Box(P          R      mAP50  mAP50-95): 100%|██████████| 27/27 [00:26<00:00,  1.02it/s]\n"
          ]
        },
        {
          "output_type": "stream",
          "name": "stdout",
          "text": [
            "                   all       5919     110141        0.9      0.812      0.906      0.645\n",
            "Closing dataloader mosaic\n",
            "\u001b[34m\u001b[1malbumentations: \u001b[0mBlur(p=0.01, blur_limit=(3, 7)), MedianBlur(p=0.01, blur_limit=(3, 7)), ToGray(p=0.01), CLAHE(p=0.01, clip_limit=(1, 4.0), tile_grid_size=(8, 8))\n",
            "\n",
            "      Epoch    GPU_mem   box_loss   cls_loss   dfl_loss  Instances       Size\n"
          ]
        },
        {
          "output_type": "stream",
          "name": "stderr",
          "text": [
            "      21/30      26.3G     0.6249     0.3595      0.836        745        640: 100%|██████████| 48/48 [00:36<00:00,  1.31it/s]\n",
            "                 Class     Images  Instances      Box(P          R      mAP50  mAP50-95): 100%|██████████| 27/27 [00:25<00:00,  1.05it/s]\n"
          ]
        },
        {
          "output_type": "stream",
          "name": "stdout",
          "text": [
            "                   all       5919     110141      0.887       0.82      0.904      0.639\n",
            "\n",
            "      Epoch    GPU_mem   box_loss   cls_loss   dfl_loss  Instances       Size\n"
          ]
        },
        {
          "output_type": "stream",
          "name": "stderr",
          "text": [
            "      22/30      26.2G     0.6109     0.3486      0.832        610        640: 100%|██████████| 48/48 [00:25<00:00,  1.87it/s]\n",
            "                 Class     Images  Instances      Box(P          R      mAP50  mAP50-95): 100%|██████████| 27/27 [00:26<00:00,  1.04it/s]\n"
          ]
        },
        {
          "output_type": "stream",
          "name": "stdout",
          "text": [
            "                   all       5919     110141       0.89      0.825      0.905      0.628\n",
            "\n",
            "      Epoch    GPU_mem   box_loss   cls_loss   dfl_loss  Instances       Size\n"
          ]
        },
        {
          "output_type": "stream",
          "name": "stderr",
          "text": [
            "      23/30      26.3G     0.5986      0.342     0.8298        544        640: 100%|██████████| 48/48 [00:25<00:00,  1.87it/s]\n",
            "                 Class     Images  Instances      Box(P          R      mAP50  mAP50-95): 100%|██████████| 27/27 [00:25<00:00,  1.05it/s]\n"
          ]
        },
        {
          "output_type": "stream",
          "name": "stdout",
          "text": [
            "                   all       5919     110141      0.899      0.807        0.9      0.638\n",
            "\n",
            "      Epoch    GPU_mem   box_loss   cls_loss   dfl_loss  Instances       Size\n"
          ]
        },
        {
          "output_type": "stream",
          "name": "stderr",
          "text": [
            "      24/30      26.3G     0.5887     0.3353     0.8278        681        640: 100%|██████████| 48/48 [00:25<00:00,  1.86it/s]\n",
            "                 Class     Images  Instances      Box(P          R      mAP50  mAP50-95): 100%|██████████| 27/27 [00:25<00:00,  1.05it/s]\n"
          ]
        },
        {
          "output_type": "stream",
          "name": "stdout",
          "text": [
            "                   all       5919     110141      0.904      0.807      0.901      0.639\n",
            "\n",
            "      Epoch    GPU_mem   box_loss   cls_loss   dfl_loss  Instances       Size\n"
          ]
        },
        {
          "output_type": "stream",
          "name": "stderr",
          "text": [
            "      25/30      26.2G     0.5733      0.327     0.8252        630        640: 100%|██████████| 48/48 [00:25<00:00,  1.91it/s]\n",
            "                 Class     Images  Instances      Box(P          R      mAP50  mAP50-95): 100%|██████████| 27/27 [00:25<00:00,  1.04it/s]"
          ]
        },
        {
          "output_type": "stream",
          "name": "stdout",
          "text": [
            "                   all       5919     110141      0.905      0.803      0.901      0.646\n"
          ]
        },
        {
          "output_type": "stream",
          "name": "stderr",
          "text": [
            "\n"
          ]
        },
        {
          "output_type": "stream",
          "name": "stdout",
          "text": [
            "\n",
            "      Epoch    GPU_mem   box_loss   cls_loss   dfl_loss  Instances       Size\n"
          ]
        },
        {
          "output_type": "stream",
          "name": "stderr",
          "text": [
            "      26/30      26.4G     0.5602      0.317     0.8227        628        640: 100%|██████████| 48/48 [00:25<00:00,  1.90it/s]\n",
            "                 Class     Images  Instances      Box(P          R      mAP50  mAP50-95): 100%|██████████| 27/27 [00:25<00:00,  1.05it/s]"
          ]
        },
        {
          "output_type": "stream",
          "name": "stdout",
          "text": [
            "                   all       5919     110141      0.902      0.797      0.897       0.64\n"
          ]
        },
        {
          "output_type": "stream",
          "name": "stderr",
          "text": [
            "\n"
          ]
        },
        {
          "output_type": "stream",
          "name": "stdout",
          "text": [
            "\n",
            "      Epoch    GPU_mem   box_loss   cls_loss   dfl_loss  Instances       Size\n"
          ]
        },
        {
          "output_type": "stream",
          "name": "stderr",
          "text": [
            "      27/30      26.2G     0.5526     0.3143     0.8204        663        640: 100%|██████████| 48/48 [00:26<00:00,  1.81it/s]\n",
            "                 Class     Images  Instances      Box(P          R      mAP50  mAP50-95): 100%|██████████| 27/27 [00:24<00:00,  1.09it/s]\n"
          ]
        },
        {
          "output_type": "stream",
          "name": "stdout",
          "text": [
            "                   all       5919     110141      0.902      0.807      0.903      0.647\n",
            "\n",
            "      Epoch    GPU_mem   box_loss   cls_loss   dfl_loss  Instances       Size\n"
          ]
        },
        {
          "output_type": "stream",
          "name": "stderr",
          "text": [
            "      28/30      26.2G     0.5383     0.3059     0.8179        600        640: 100%|██████████| 48/48 [00:24<00:00,  1.93it/s]\n",
            "                 Class     Images  Instances      Box(P          R      mAP50  mAP50-95): 100%|██████████| 27/27 [00:26<00:00,  1.03it/s]\n"
          ]
        },
        {
          "output_type": "stream",
          "name": "stdout",
          "text": [
            "                   all       5919     110141      0.902       0.81      0.903      0.652\n",
            "\n",
            "      Epoch    GPU_mem   box_loss   cls_loss   dfl_loss  Instances       Size\n"
          ]
        },
        {
          "output_type": "stream",
          "name": "stderr",
          "text": [
            "      29/30      26.4G     0.5286     0.2998     0.8166        622        640: 100%|██████████| 48/48 [00:25<00:00,  1.85it/s]\n",
            "                 Class     Images  Instances      Box(P          R      mAP50  mAP50-95): 100%|██████████| 27/27 [00:24<00:00,  1.09it/s]\n"
          ]
        },
        {
          "output_type": "stream",
          "name": "stdout",
          "text": [
            "                   all       5919     110141      0.908        0.8      0.903      0.651\n",
            "\n",
            "      Epoch    GPU_mem   box_loss   cls_loss   dfl_loss  Instances       Size\n"
          ]
        },
        {
          "output_type": "stream",
          "name": "stderr",
          "text": [
            "      30/30      26.4G     0.5192     0.2948     0.8153        687        640: 100%|██████████| 48/48 [00:25<00:00,  1.86it/s]\n",
            "                 Class     Images  Instances      Box(P          R      mAP50  mAP50-95): 100%|██████████| 27/27 [00:24<00:00,  1.09it/s]\n"
          ]
        },
        {
          "output_type": "stream",
          "name": "stdout",
          "text": [
            "                   all       5919     110141      0.904      0.812      0.909      0.653\n",
            "\n",
            "30 epochs completed in 0.459 hours.\n",
            "Optimizer stripped from models/yolo/yolov8s_mot17_det/weights/last.pt, 22.5MB\n",
            "Optimizer stripped from models/yolo/yolov8s_mot17_det/weights/best.pt, 22.5MB\n",
            "\n",
            "Validating models/yolo/yolov8s_mot17_det/weights/best.pt...\n",
            "Ultralytics YOLOv8.1.32 🚀 Python-3.10.12 torch-2.2.1+cu121 CUDA:0 (NVIDIA A100-SXM4-40GB, 40514MiB)\n",
            "Model summary (fused): 168 layers, 11125971 parameters, 0 gradients, 28.4 GFLOPs\n"
          ]
        },
        {
          "output_type": "stream",
          "name": "stderr",
          "text": [
            "                 Class     Images  Instances      Box(P          R      mAP50  mAP50-95): 100%|██████████| 27/27 [00:45<00:00,  1.67s/it]\n"
          ]
        },
        {
          "output_type": "stream",
          "name": "stdout",
          "text": [
            "                   all       5919     110141      0.904      0.812      0.909      0.653\n",
            "Speed: 0.1ms preprocess, 0.5ms inference, 0.0ms loss, 0.8ms postprocess per image\n",
            "Results saved to \u001b[1mmodels/yolo/yolov8s_mot17_det\u001b[0m\n"
          ]
        }
      ]
    },
    {
      "cell_type": "markdown",
      "source": [
        "### Set up class Detector\n",
        "With the YOLO model that has just been trained, we will build a Detector class for convenience in use.\n",
        "\n",
        "This class receives as input parameter the model file path, and has a detect() method to perform detection for any image."
      ],
      "metadata": {
        "id": "gFRr4IapLb8A"
      }
    },
    {
      "cell_type": "code",
      "source": [
        "class YOLOv8:\n",
        "  def __init__(self, model_path):\n",
        "    self.model = YOLO(model_path)\n",
        "\n",
        "  def detect(self, source_img):\n",
        "    results = self.model.predict(source_img, verbose=False)[0]\n",
        "    bboxes = results.boxes.xywh.cpu().numpy()\n",
        "    bboxes[:, :2] = bboxes[:, :2] - (bboxes[:, 2:] / 2)\n",
        "    scores = results.boxes.conf.cpu().numpy()\n",
        "    classes = results.boxes.cls.cpu().numpy()\n",
        "\n",
        "    return bboxes, scores, classes"
      ],
      "metadata": {
        "id": "nxgjMO8fMFCd"
      },
      "execution_count": 16,
      "outputs": []
    },
    {
      "cell_type": "markdown",
      "source": [
        "## 4. Evaluation"
      ],
      "metadata": {
        "id": "fcXeEiZCQLtH"
      }
    },
    {
      "cell_type": "code",
      "source": [
        "# Load the trained model\n",
        "model_path = os.path.join(\n",
        "    project_name, name, 'weights/best.pt'\n",
        ")\n",
        "model = YOLO(model_path)\n",
        "\n",
        "metrics = model.val(\n",
        "    project=project_name,\n",
        "    name='detect/val'\n",
        ")"
      ],
      "metadata": {
        "colab": {
          "base_uri": "https://localhost:8080/"
        },
        "id": "EKAOneSiQPSB",
        "outputId": "23a129bc-f9b5-4c2a-c4cc-050f75a81cb3"
      },
      "execution_count": 17,
      "outputs": [
        {
          "output_type": "stream",
          "name": "stdout",
          "text": [
            "Ultralytics YOLOv8.1.32 🚀 Python-3.10.12 torch-2.2.1+cu121 CUDA:0 (NVIDIA A100-SXM4-40GB, 40514MiB)\n",
            "Model summary (fused): 168 layers, 11125971 parameters, 0 gradients, 28.4 GFLOPs\n"
          ]
        },
        {
          "output_type": "stream",
          "name": "stderr",
          "text": [
            "\u001b[34m\u001b[1mval: \u001b[0mScanning /content/MOT17/test/labels.cache... 5908 images, 11 backgrounds, 0 corrupt: 100%|██████████| 5919/5919 [00:00<?, ?it/s]\n",
            "                 Class     Images  Instances      Box(P          R      mAP50  mAP50-95): 100%|██████████| 370/370 [00:51<00:00,  7.21it/s]\n"
          ]
        },
        {
          "output_type": "stream",
          "name": "stdout",
          "text": [
            "                   all       5919     110141      0.904      0.812      0.909      0.654\n",
            "Speed: 0.1ms preprocess, 1.0ms inference, 0.0ms loss, 0.8ms postprocess per image\n",
            "Results saved to \u001b[1mmodels/yolo/detect/val\u001b[0m\n"
          ]
        }
      ]
    },
    {
      "cell_type": "markdown",
      "source": [
        "## 5. Inference"
      ],
      "metadata": {
        "id": "fXYzfTlWQUv4"
      }
    },
    {
      "cell_type": "code",
      "source": [
        "sample_path = 'MOT17/test/images/MOT17-01-FRCNN_000001.jpg'\n",
        "results = model.predict(\n",
        "    sample_path,\n",
        "    project=project_name,\n",
        "    name='detect/predict',\n",
        "    save=True\n",
        ")"
      ],
      "metadata": {
        "colab": {
          "base_uri": "https://localhost:8080/"
        },
        "id": "58eR5tpuQUR8",
        "outputId": "f4c72200-6a51-40a5-c90a-a22a7cefc235"
      },
      "execution_count": 18,
      "outputs": [
        {
          "output_type": "stream",
          "name": "stdout",
          "text": [
            "\n",
            "image 1/1 /content/MOT17/test/images/MOT17-01-FRCNN_000001.jpg: 384x640 9 objectss, 173.6ms\n",
            "Speed: 2.4ms preprocess, 173.6ms inference, 1.8ms postprocess per image at shape (1, 3, 384, 640)\n",
            "Results saved to \u001b[1mmodels/yolo/detect/predict\u001b[0m\n"
          ]
        }
      ]
    }
  ]
}